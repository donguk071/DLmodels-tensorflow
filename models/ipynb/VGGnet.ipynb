{
 "cells": [
  {
   "cell_type": "code",
   "execution_count": 12,
   "id": "ff4a3804-dd55-48ab-a636-940d4906ba53",
   "metadata": {},
   "outputs": [],
   "source": [
    "import cv2\n",
    "import pandas as pd \n",
    "import numpy as np\n",
    "# import package\n",
    "\n",
    "# model\n",
    "import torch\n",
    "import torch.nn as nn\n",
    "import torch.nn.functional as F\n",
    "from torch import optim\n",
    "from torch.optim.lr_scheduler import StepLR\n",
    "\n",
    "# dataset and transformation\n",
    "from torchvision import datasets\n",
    "import torchvision.transforms as transforms\n",
    "from torch.utils.data import DataLoader\n",
    "import os\n",
    "\n",
    "# display images\n",
    "from torchvision import utils\n",
    "import matplotlib.pyplot as plt\n",
    "%matplotlib inline\n",
    "\n",
    "# utils\n",
    "import numpy as np\n",
    "import time\n",
    "import copy\n",
    "import torch\n",
    "import torch.nn as nn\n",
    "import torchvision.models as models"
   ]
  },
  {
   "cell_type": "code",
   "execution_count": 15,
   "id": "64246710-af1a-46f5-94a7-67c4c23321a9",
   "metadata": {},
   "outputs": [
    {
     "name": "stdout",
     "output_type": "stream",
     "text": [
      "(150, 150, 3)\n"
     ]
    }
   ],
   "source": [
    "img = cv2.imread('train/scissors/testscissors04-30.jpg')\n",
    "print(img.shape)"
   ]
  },
  {
   "cell_type": "code",
   "execution_count": 17,
   "id": "dd2d1c8f-9683-4547-9e2e-326a16848878",
   "metadata": {},
   "outputs": [
    {
     "data": {
      "text/plain": [
       "(964, 964, 964)"
      ]
     },
     "execution_count": 17,
     "metadata": {},
     "output_type": "execute_result"
    }
   ],
   "source": [
    "import glob\n",
    "\n",
    "paper_path_list = glob.glob(\"train/paper/*\")\n",
    "rock_path_list = glob.glob(\"train/rock/*\")\n",
    "scissors_path_list = glob.glob(\"train/scissors/*\")\n",
    "\n",
    "len(paper_path_list), len(rock_path_list), len(scissors_path_list)"
   ]
  },
  {
   "cell_type": "code",
   "execution_count": 24,
   "id": "44622251-0ace-4e2d-a640-7c1b4e097551",
   "metadata": {},
   "outputs": [
    {
     "data": {
      "text/plain": [
       "2892"
      ]
     },
     "execution_count": 24,
     "metadata": {},
     "output_type": "execute_result"
    }
   ],
   "source": [
    "RSP_list = paper_path_list+rock_path_list+scissors_path_list\n",
    "len(RSP_list)"
   ]
  },
  {
   "cell_type": "code",
   "execution_count": 32,
   "id": "81b17abf-50b1-44a4-b839-27aca62586f0",
   "metadata": {},
   "outputs": [
    {
     "name": "stdout",
     "output_type": "stream",
     "text": [
      "2892\n",
      "paper\n"
     ]
    }
   ],
   "source": [
    "df1 = pd.DataFrame('paper', index=range(964), columns=range(1))\n",
    "df2 = pd.DataFrame('rock', index=range(964), columns=range(1))\n",
    "df3 = pd.DataFrame('scissors', index=range(964), columns=range(1))\n",
    "RSP_ans_df = pd.concat([df1,df2,df3], axis = 0) \n",
    "RSP_ans_df = RSP_ans_df.reset_index(drop = True)\n",
    "print(len(RSP_ans_df))\n",
    "print(RSP_ans_df[0][0])\n",
    "RSP_ans_df = RSP_ans_df.to_numpy()"
   ]
  },
  {
   "cell_type": "code",
   "execution_count": 29,
   "id": "bd4e500b-105b-46d1-970a-acb790b2518f",
   "metadata": {},
   "outputs": [],
   "source": [
    "# RSP_list2 = pd.DataFrame(RSP_list)\n",
    "# RSP_df = pd.concat([RSP_list,RSP_ans_df], axis = 0) \n",
    "#RSP_list"
   ]
  },
  {
   "cell_type": "code",
   "execution_count": 31,
   "id": "e798a82b-16aa-4af1-95b4-1cb382301ef5",
   "metadata": {},
   "outputs": [
    {
     "name": "stderr",
     "output_type": "stream",
     "text": [
      "IOPub data rate exceeded.\n",
      "The notebook server will temporarily stop sending output\n",
      "to the client in order to avoid crashing it.\n",
      "To change this limit, set the config variable\n",
      "`--NotebookApp.iopub_data_rate_limit`.\n",
      "\n",
      "Current values:\n",
      "NotebookApp.iopub_data_rate_limit=1000000.0 (bytes/sec)\n",
      "NotebookApp.rate_limit_window=3.0 (secs)\n",
      "\n"
     ]
    }
   ],
   "source": [
    "from PIL import Image\n",
    "import os\n",
    "\n",
    "# 이미지 파일이 저장된 디렉터리 경로\n",
    "\n",
    "# 디렉터리 내의 이미지 파일들을 읽어들임\n",
    "image_files = [f for f in RSP_list]\n",
    "\n",
    "# 이미지 파일들을 배열로 변환\n",
    "images = []\n",
    "for f in RSP_list:\n",
    "    image_path = f\n",
    "    with Image.open(image_path) as img:\n",
    "        images.append(np.array(img))\n",
    "\n",
    "# 이미지 배열 확인\n",
    "print(images)\n"
   ]
  },
  {
   "cell_type": "code",
   "execution_count": 33,
   "id": "d084ae52-4f45-4de0-8b6f-72eb1890df1c",
   "metadata": {},
   "outputs": [
    {
     "ename": "AttributeError",
     "evalue": "'list' object has no attribute 'reshape'",
     "output_type": "error",
     "traceback": [
      "\u001b[0;31m---------------------------------------------------------------------------\u001b[0m",
      "\u001b[0;31mAttributeError\u001b[0m                            Traceback (most recent call last)",
      "\u001b[0;32m/tmp/ipykernel_9794/3886851318.py\u001b[0m in \u001b[0;36m<module>\u001b[0;34m\u001b[0m\n\u001b[0;32m----> 1\u001b[0;31m \u001b[0mimages\u001b[0m\u001b[0;34m=\u001b[0m\u001b[0mimages\u001b[0m\u001b[0;34m.\u001b[0m\u001b[0mreshape\u001b[0m\u001b[0;34m(\u001b[0m\u001b[0;34m-\u001b[0m\u001b[0;36m1\u001b[0m\u001b[0;34m,\u001b[0m\u001b[0;36m28\u001b[0m\u001b[0;34m,\u001b[0m\u001b[0;36m28\u001b[0m\u001b[0;34m,\u001b[0m\u001b[0;36m1\u001b[0m\u001b[0;34m)\u001b[0m\u001b[0;34m\u001b[0m\u001b[0;34m\u001b[0m\u001b[0m\n\u001b[0m\u001b[1;32m      2\u001b[0m \u001b[0;31m#x_test=x_test.reshape(-1,28,28,1)\u001b[0m\u001b[0;34m\u001b[0m\u001b[0;34m\u001b[0m\u001b[0;34m\u001b[0m\u001b[0m\n\u001b[1;32m      3\u001b[0m \u001b[0;34m\u001b[0m\u001b[0m\n\u001b[1;32m      4\u001b[0m \u001b[0mx_train\u001b[0m\u001b[0;34m,\u001b[0m\u001b[0mx_val\u001b[0m\u001b[0;34m,\u001b[0m\u001b[0my_train\u001b[0m\u001b[0;34m,\u001b[0m\u001b[0my_val\u001b[0m\u001b[0;34m=\u001b[0m\u001b[0mtrain_test_split\u001b[0m\u001b[0;34m(\u001b[0m\u001b[0mimages\u001b[0m\u001b[0;34m,\u001b[0m\u001b[0mRSP_ans_df\u001b[0m\u001b[0;34m,\u001b[0m\u001b[0mtest_size\u001b[0m\u001b[0;34m=\u001b[0m\u001b[0;36m0.2\u001b[0m\u001b[0;34m)\u001b[0m\u001b[0;34m\u001b[0m\u001b[0;34m\u001b[0m\u001b[0m\n\u001b[1;32m      5\u001b[0m \u001b[0;34m\u001b[0m\u001b[0m\n",
      "\u001b[0;31mAttributeError\u001b[0m: 'list' object has no attribute 'reshape'"
     ]
    }
   ],
   "source": [
    "images =for i in imagesimages.reshape(-1,28,28,1)\n",
    "#x_test=x_test.reshape(-1,28,28,1)\n",
    "\n",
    "x_train,x_val,y_train,y_val=train_test_split(images,RSP_ans_df,test_size=0.2)\n",
    "\n",
    "x_train=x_train/255.0\n",
    "x_val=x_val/255.0\n",
    "x_test=x_test/255.0"
   ]
  },
  {
   "cell_type": "code",
   "execution_count": null,
   "id": "215937b9-dbd4-404a-baa7-9c9478762c0f",
   "metadata": {},
   "outputs": [],
   "source": []
  }
 ],
 "metadata": {
  "kernelspec": {
   "display_name": "Python 3",
   "language": "python",
   "name": "python3"
  },
  "language_info": {
   "codemirror_mode": {
    "name": "ipython",
    "version": 3
   },
   "file_extension": ".py",
   "mimetype": "text/x-python",
   "name": "python",
   "nbconvert_exporter": "python",
   "pygments_lexer": "ipython3",
   "version": "3.7.12"
  }
 },
 "nbformat": 4,
 "nbformat_minor": 5
}
