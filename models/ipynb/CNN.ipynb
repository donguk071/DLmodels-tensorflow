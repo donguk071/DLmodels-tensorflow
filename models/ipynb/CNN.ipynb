{
 "cells": [
  {
   "cell_type": "code",
   "execution_count": 2,
   "metadata": {},
   "outputs": [],
   "source": [
    "from tensorflow import keras\n",
    "import data_reader\n",
    "import glob\n",
    "from PIL import Image \n",
    "import numpy as np\n",
    "import random"
   ]
  },
  {
   "cell_type": "code",
   "execution_count": 3,
   "metadata": {},
   "outputs": [
    {
     "data": {
      "text/plain": [
       "2892"
      ]
     },
     "execution_count": 3,
     "metadata": {},
     "output_type": "execute_result"
    }
   ],
   "source": [
    "file_path_P = glob.glob('../data/paper/*')\n",
    "file_path_R = glob.glob('../data/rock/*')\n",
    "file_path_S = glob.glob('../data/scissors/*')\n",
    "\n",
    "file_path  = file_path_S + file_path_R + file_path_P\n",
    "len(file_path)"
   ]
  },
  {
   "cell_type": "code",
   "execution_count": 4,
   "metadata": {},
   "outputs": [],
   "source": [
    "data = []\n",
    "for i , path in enumerate(file_path):\n",
    "    img = Image.open(path)\n",
    "    img = np.asarray(img)\n",
    "    if i < len(file_path_P):\n",
    "        img_label = 0 \n",
    "    if i > len(file_path_R) and i < len(file_path_S)*2:\n",
    "        img_label = 1\n",
    "    if i > len(file_path_P)*2 and i < len(file_path_P)*3:\n",
    "        img_label = 2\n",
    "    data.append((img,img_label))    \n",
    "\n",
    "random.shuffle(data)\n",
    "    "
   ]
  },
  {
   "cell_type": "code",
   "execution_count": 6,
   "metadata": {},
   "outputs": [],
   "source": [
    "# # for i in data:\n",
    "# #     train_X = \n",
    "from sklearn.model_selection import train_test_split\n",
    "\n",
    "target = [row[1] for row in data]\n",
    "data = [row[0] for row in data]\n",
    "\n",
    "# train_test_split\n",
    "x_train, x_test, y_train, y_test = train_test_split(data, target, test_size=0.2, shuffle=True, stratify=target, random_state=34)\n",
    "x_train = np.array(x_train)/255.0\n",
    "x_test = np.array(x_test)/255.0\n",
    "y_train = np.array(y_train)/ 1.0\n",
    "y_test = np.array(y_test)/ 1.0\n",
    "\n",
    "# train_X = []\n",
    "# train_Y = []\n",
    "# test_X = []\n",
    "# test_Y = []\n",
    "\n",
    "# for i in range(len(data)):\n",
    "#     if i < 0.8*len(data):\n",
    "#         train_X.append(data[i][0])\n",
    "#         train_Y.append(data[i][1])\n",
    "#     else:\n",
    "#         test_X.append(data[i][0])\n",
    "#         test_Y.append(data[i][1])\n",
    "# train_X = np.asarray(train_X) / 255.0\n",
    "# train_Y = np.asarray(train_Y)\n",
    "# test_X = np.asarray(test_X)/ 255.0\n",
    "# test_Y = np.asarray(test_Y)\n"
   ]
  },
  {
   "cell_type": "code",
   "execution_count": 9,
   "metadata": {},
   "outputs": [],
   "source": [
    "\n",
    "model = keras.Sequential([\n",
    "    keras.layers.Conv2D(16, (3, 3), activation=\"relu\"),\n",
    "    keras.layers.MaxPooling2D((2, 2)),\n",
    "    keras.layers.Conv2D(32, (3, 3), activation='relu'),\n",
    "    keras.layers.MaxPooling2D((2, 2)),\n",
    "    keras.layers.Conv2D(64, (3, 3), activation='relu'),\n",
    "    keras.layers.MaxPooling2D((2, 2)),\n",
    "    keras.layers.Conv2D(64, (3, 3), activation='relu'),\n",
    "    keras.layers.MaxPooling2D((2, 2)),\n",
    "    keras.layers.Conv2D(64, (3, 3), activation='relu'),\n",
    "    keras.layers.MaxPooling2D((2, 2)),\n",
    "    keras.layers.Flatten(),\n",
    "    keras.layers.Dense(128, activation='relu'),\n",
    "    keras.layers.Dense(3, activation=\"softmax\")\n",
    "])\n",
    "\n",
    "model.compile(optimizer='adam', metrics=['accuracy'],\n",
    "              loss='sparse_categorical_crossentropy')"
   ]
  },
  {
   "cell_type": "code",
   "execution_count": 10,
   "metadata": {},
   "outputs": [
    {
     "name": "stdout",
     "output_type": "stream",
     "text": [
      "\n",
      "\n",
      "************ TRAINING START ************ \n",
      "float64\n",
      "Epoch 1/8\n",
      "73/73 [==============================] - 96s 1s/step - loss: 1.6904 - accuracy: 0.3320 - val_loss: 1.0986 - val_accuracy: 0.3333\n",
      "Epoch 2/8\n",
      "73/73 [==============================] - 83s 1s/step - loss: 1.0987 - accuracy: 0.3333 - val_loss: 1.0986 - val_accuracy: 0.3333\n",
      "Epoch 3/8\n",
      "73/73 [==============================] - 97s 1s/step - loss: 1.0987 - accuracy: 0.3247 - val_loss: 1.0986 - val_accuracy: 0.3333\n"
     ]
    }
   ],
   "source": [
    "print(\"\\n\\n************ TRAINING START ************ \")\n",
    "early_stop = keras.callbacks.EarlyStopping(monitor='val_loss', patience=2)\n",
    "early_stop2 = keras.callbacks.EarlyStopping(monitor='val_accuracy', patience=2)\n",
    "print(y_train.dtype)\n",
    "history = model.fit(x_train, y_train, epochs=8,\n",
    "                    validation_data=(x_test, y_test),\n",
    "                    callbacks=[early_stop,early_stop2])"
   ]
  },
  {
   "cell_type": "code",
   "execution_count": null,
   "metadata": {},
   "outputs": [],
   "source": []
  }
 ],
 "metadata": {
  "kernelspec": {
   "display_name": "py36tf131",
   "language": "python",
   "name": "python3"
  },
  "language_info": {
   "codemirror_mode": {
    "name": "ipython",
    "version": 3
   },
   "file_extension": ".py",
   "mimetype": "text/x-python",
   "name": "python",
   "nbconvert_exporter": "python",
   "pygments_lexer": "ipython3",
   "version": "3.6.13"
  },
  "orig_nbformat": 4
 },
 "nbformat": 4,
 "nbformat_minor": 2
}
