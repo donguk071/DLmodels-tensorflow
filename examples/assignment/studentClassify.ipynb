{
 "cells": [
  {
   "cell_type": "code",
   "execution_count": 1,
   "metadata": {},
   "outputs": [],
   "source": [
    "import pandas as pd\n",
    "import numpy as np\n",
    "from sklearn.model_selection import train_test_split\n",
    "from sklearn.preprocessing import MinMaxScaler"
   ]
  },
  {
   "cell_type": "code",
   "execution_count": 13,
   "metadata": {},
   "outputs": [],
   "source": [
    "import pandas as pd\n",
    "data = pd.read_csv('C:/Users/drago/university/23.1 semester/DL/DLmodels-tensorflow/data/student.csv')\n",
    "data.isnull().sum()\n",
    "\n",
    "data = data.loc[:,:'몸무게']\n",
    "# data = data.drop(columns = '반', axis=1)\n",
    "# data =data.drop(columns = '학년도', axis=1)\n",
    "# data =data.drop(columns = '건강검진일', axis=1)\n",
    "# data =data.drop(columns = '학교ID', axis=1)\n",
    "# data =data.drop(columns = 'ID', axis=1)\n",
    "# data =data.drop(columns = '최종가중치', axis=1)\n",
    "# data =data.drop(columns = '도시규모', axis=1)\n",
    "# data =data.drop(columns = '도시규모별분석용', axis=1)\n",
    "# data =data.drop(columns = '광역시도', axis=1)\n",
    "# data =data.drop(columns = '시도별', axis=1)\n",
    "# data =data.drop(columns = '학년', axis=1)\n",
    "# data =data.drop(columns = '학교급별', axis=1)\n",
    "# data =data.drop(columns = '공학여부', axis=1)\n",
    "\n",
    "data = data.loc[:,['학교명','성별','키','몸무게']]"
   ]
  },
  {
   "cell_type": "code",
   "execution_count": 14,
   "metadata": {},
   "outputs": [
    {
     "name": "stdout",
     "output_type": "stream",
     "text": [
      "학교명     object\n",
      "성별      object\n",
      "키      float64\n",
      "몸무게    float64\n",
      "dtype: object\n",
      "\n",
      "\n",
      "\n",
      "\n",
      "\n",
      "학교명     object\n",
      "성별       int64\n",
      "키      float64\n",
      "몸무게    float64\n",
      "dtype: object\n",
      "\n",
      "\n",
      "\n",
      "\n",
      "\n",
      "학교명       int8\n",
      "성별       int64\n",
      "키      float64\n",
      "몸무게    float64\n",
      "dtype: object\n"
     ]
    }
   ],
   "source": [
    "data.loc[data[\"성별\"] == \"남\", \"성별\"] = 0\n",
    "data.loc[data[\"성별\"] == \"여\", \"성별\"] = 1\n",
    "print(data.dtypes)\n",
    "print(\"\\n\\n\\n\\n\")\n",
    "data['성별'] = pd.to_numeric(data['성별'])\n",
    "print(data.dtypes)\n",
    "print(\"\\n\\n\\n\\n\")\n",
    "\n",
    "# 중간에 숫자가 섞이면서 이상해진다 문자로 대체해주자 object type 이지만 이렇게 했어야했다\n",
    "data.loc[data[\"학교명\"].str.contains(\"고등학교\"), \"학교명\"] = \"고등학교\"\n",
    "data.loc[data[\"학교명\"].str.contains(\"중학교\"), \"학교명\"] = \"중학교\"\n",
    "data.loc[data[\"학교명\"].str.contains(\"초등학교\"), \"학교명\"] = \"초등학교\"\n",
    "\n",
    "#방법1\n",
    "'''\n",
    "from sklearn import preprocessing\n",
    "label_encoder = preprocessing.LabelEncoder()\n",
    "data['학교명'] = label_encoder.fit_transform(data[\"학교명\"])\n",
    "'''\n",
    "#방법2\n",
    "data['학교명'] = data['학교명'].astype('category').cat.codes\n",
    "\n",
    "print(data.dtypes)\n",
    "#obj = str? "
   ]
  },
  {
   "cell_type": "code",
   "execution_count": 70,
   "metadata": {},
   "outputs": [
    {
     "name": "stdout",
     "output_type": "stream",
     "text": [
      "학교명     object\n",
      "성별       int64\n",
      "키      float64\n",
      "몸무게    float64\n",
      "dtype: object\n"
     ]
    }
   ],
   "source": [
    "# 직접 labeling 코딩 멍청했다.....\n",
    "# print(data.dtypes)\n",
    "# for i, a in enumerate(data['학교명']):\n",
    "#     if \"고등학교\" in str(a):\n",
    "#         data.loc[i, \"학교명\"] = 0\n",
    "#     elif \"중학교\" in str(a):\n",
    "#         data.loc[i, \"학교명\"] = 1\n",
    "#     elif \"초등학교\" in str(a):\n",
    "#         data.loc[i, \"학교명\"] = 2\n",
    "        \n",
    "# data['학교명'] = pd.to_numeric(data['학교명'])\n"
   ]
  },
  {
   "cell_type": "code",
   "execution_count": 15,
   "metadata": {},
   "outputs": [],
   "source": [
    "target =  data[\"학교명\"]\n",
    "data = data.loc[:,\"성별\":] #index로 할거면 iloc 써도 되었을거다"
   ]
  },
  {
   "cell_type": "code",
   "execution_count": 16,
   "metadata": {},
   "outputs": [],
   "source": [
    "scaler = MinMaxScaler() #더욱 좋은 scaler 도 있었을거다\n",
    "data = scaler.fit_transform(data)"
   ]
  },
  {
   "cell_type": "code",
   "execution_count": 17,
   "metadata": {},
   "outputs": [
    {
     "name": "stdout",
     "output_type": "stream",
     "text": [
      "\n",
      "\n",
      "Data Read Done!\n",
      "Training X Size : (7745, 3)\n",
      "Training Y Size : (7745,)\n",
      "Test X Size : (1937, 3)\n",
      "Test Y Size : (1937,)\n",
      "\n",
      "\n"
     ]
    }
   ],
   "source": [
    "x_train, x_test, y_train, y_test = train_test_split(\n",
    "            data, target, test_size=0.2, shuffle=True, stratify=target, random_state=34)\n",
    "x_train = np.array(x_train)\n",
    "x_test = np.array(x_test) \n",
    "y_train = np.array(y_train) \n",
    "y_test = np.array(y_test) \n",
    "\n",
    "print(\"\\n\\nData Read Done!\")\n",
    "print(\"Training X Size : \" + str(x_train.shape))\n",
    "print(\"Training Y Size : \" + str(y_train.shape))\n",
    "print(\"Test X Size : \" + str(x_test.shape))\n",
    "print(\"Test Y Size : \" + str(y_test.shape) + '\\n\\n')\n"
   ]
  },
  {
   "cell_type": "code",
   "execution_count": 18,
   "metadata": {},
   "outputs": [
    {
     "name": "stdout",
     "output_type": "stream",
     "text": [
      "*****************start training*************************\n",
      "\n",
      " <bound method Model.summary of <keras.engine.sequential.Sequential object at 0x0000026BE01C6DD8>>\n",
      "Epoch 1/5\n",
      "1549/1549 [==============================] - 1s 698us/step - loss: 0.7509 - accuracy: 0.6440 - val_loss: 0.5866 - val_accuracy: 0.7083\n",
      "Epoch 2/5\n",
      "1549/1549 [==============================] - 1s 576us/step - loss: 0.5736 - accuracy: 0.7238 - val_loss: 0.5698 - val_accuracy: 0.7326\n",
      "Epoch 3/5\n",
      "1549/1549 [==============================] - 1s 570us/step - loss: 0.5639 - accuracy: 0.7274 - val_loss: 0.5407 - val_accuracy: 0.7450\n",
      "Epoch 4/5\n",
      "1549/1549 [==============================] - 1s 556us/step - loss: 0.5596 - accuracy: 0.7298 - val_loss: 0.5449 - val_accuracy: 0.7414\n",
      "Epoch 5/5\n",
      "1549/1549 [==============================] - 1s 586us/step - loss: 0.5553 - accuracy: 0.7340 - val_loss: 0.5391 - val_accuracy: 0.7393\n"
     ]
    }
   ],
   "source": [
    "import sys\n",
    "from tensorflow import keras\n",
    "from  tensorflow.keras.optimizers import Adam \n",
    "model = keras.Sequential([\n",
    "    keras.layers.Dense(3),\n",
    "    keras.layers.Dense(10, activation=\"relu\"),\n",
    "    keras.layers.Dense(10, activation=\"relu\"),\n",
    "    keras.layers.Dense(3, activation='softmax')\n",
    "])\n",
    "\n",
    "model.compile(optimizer='adam', metrics=['accuracy'],\n",
    "                  loss='sparse_categorical_crossentropy')  \n",
    "print(\"*****************start training*************************\\n\\n\", model.summary)\n",
    "early_stop = keras.callbacks.EarlyStopping(monitor='val_loss', patience=10)\n",
    "history = model.fit(x_train, y_train, epochs=5, batch_size=5,\n",
    "                    validation_data=(x_test, y_test),\n",
    "                    callbacks=[early_stop])"
   ]
  },
  {
   "cell_type": "code",
   "execution_count": 19,
   "metadata": {},
   "outputs": [
    {
     "data": {
      "image/png": "[encoded data removed]",
      "text/plain": [
       "<Figure size 576x576 with 1 Axes>"
      ]
     },
     "metadata": {
      "needs_background": "light"
     },
     "output_type": "display_data"
    },
    {
     "data": {
      "image/png": "[encoded data removed]",
      "text/plain": [
       "<Figure size 576x576 with 1 Axes>"
      ]
     },
     "metadata": {
      "needs_background": "light"
     },
     "output_type": "display_data"
    }
   ],
   "source": [
    "from matplotlib import pyplot as plt\n",
    "train_history = history.history[\"loss\"]\n",
    "validation_history = history.history[\"val_loss\"]\n",
    "fig = plt.figure(figsize=(8, 8))\n",
    "plt.title(\"Loss History\")\n",
    "plt.xlabel(\"EPOCH\")\n",
    "plt.ylabel(\"LOSS Function\")\n",
    "plt.plot(train_history, \"red\")\n",
    "plt.plot(validation_history, 'blue')\n",
    "fig.savefig(\"../../history/train_history.png\")\n",
    "\n",
    "train_history = history.history[\"accuracy\"]\n",
    "validation_history = history.history[\"val_accuracy\"]\n",
    "fig = plt.figure(figsize=(8, 8))\n",
    "plt.title(\"Accuracy History\")\n",
    "plt.xlabel(\"EPOCH\")\n",
    "plt.ylabel(\"Accuracy\")\n",
    "plt.plot(train_history, \"red\")\n",
    "plt.plot(validation_history, 'blue')\n",
    "fig.savefig(\"../../history/accuracy_history.png\")"
   ]
  },
  {
   "cell_type": "code",
   "execution_count": null,
   "metadata": {},
   "outputs": [],
   "source": []
  }
 ],
 "metadata": {
  "kernelspec": {
   "display_name": "py36tf131",
   "language": "python",
   "name": "python3"
  },
  "language_info": {
   "codemirror_mode": {
    "name": "ipython",
    "version": 3
   },
   "file_extension": ".py",
   "mimetype": "text/x-python",
   "name": "python",
   "nbconvert_exporter": "python",
   "pygments_lexer": "ipython3",
   "version": "3.6.13"
  },
  "orig_nbformat": 4
 },
 "nbformat": 4,
 "nbformat_minor": 2
}
