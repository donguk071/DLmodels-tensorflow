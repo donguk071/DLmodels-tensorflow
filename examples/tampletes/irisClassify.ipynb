{
 "cells": [
  {
   "cell_type": "code",
   "execution_count": 74,
   "metadata": {},
   "outputs": [],
   "source": [
    "import pandas as pd\n",
    "import numpy as np\n",
    "from sklearn.model_selection import train_test_split"
   ]
  },
  {
   "cell_type": "code",
   "execution_count": 75,
   "metadata": {},
   "outputs": [],
   "source": [
    "# data = pd.read_csv(\"C:/Users/drago/university/23.1 semester/DL/DLmodels-tensorflow/data/iris.csv\", index_col=[0,1,2,3,4])\n",
    "# data\n",
    "import csv\n",
    "\n",
    "data = []\n",
    "with open('C:/Users/drago/university/23.1 semester/DL/DLmodels-tensorflow/data/iris.csv', newline='') as csvfile:\n",
    "    reader = csv.reader(csvfile)\n",
    "    for row in reader:\n",
    "        if len(row) != 0:\n",
    "            if row [4] == \"Iris-setosa\":\n",
    "                row [4] = 0\n",
    "            if row [4] == \"Iris-versicolor\":\n",
    "                row [4] = 1    \n",
    "            if row [4] == \"Iris-virginica\":\n",
    "                row [4] = 2\n",
    "            int_list = list(map(float, row[0:4]))\n",
    "            data.append((int_list, np.array(row[4])))    \n",
    "               "
   ]
  },
  {
   "cell_type": "code",
   "execution_count": 76,
   "metadata": {},
   "outputs": [],
   "source": [
    "import random\n",
    "\n",
    "random.shuffle(data)"
   ]
  },
  {
   "cell_type": "code",
   "execution_count": 77,
   "metadata": {},
   "outputs": [],
   "source": [
    "target = [row[1] for row in data]\n",
    "data = [row[0] for row in data]"
   ]
  },
  {
   "cell_type": "code",
   "execution_count": 78,
   "metadata": {},
   "outputs": [
    {
     "data": {
      "text/plain": [
       "1.8"
      ]
     },
     "execution_count": 78,
     "metadata": {},
     "output_type": "execute_result"
    }
   ],
   "source": [
    "data[0][3]\n",
    "#5.1, 3.8, 1.6, 0.2"
   ]
  },
  {
   "cell_type": "code",
   "execution_count": 79,
   "metadata": {},
   "outputs": [
    {
     "name": "stdout",
     "output_type": "stream",
     "text": [
      "[4.3, 2.0, 1.0, 0.1]\n",
      "[7.9, 4.4, 6.9, 2.5]\n"
     ]
    }
   ],
   "source": [
    "# normalize\n",
    "mmin = [12,12,12,12]\n",
    "mmax = [0,0,0,0]\n",
    "for i in range(4):\n",
    "    for j in range(len(data)):\n",
    "        if mmin[i] > data[j][i]:\n",
    "            mmin[i] = data[j][i]\n",
    "        if mmax[i] < data[j][i]:\n",
    "            mmax[i] = data[j][i]\n",
    "print(mmin)\n",
    "print(mmax)"
   ]
  },
  {
   "cell_type": "code",
   "execution_count": 80,
   "metadata": {},
   "outputs": [],
   "source": [
    "for i in range(4):\n",
    "    for j in range(len(data)):\n",
    "        data[j][i] = (data[j][i] - mmin[i]) / (mmax[i] - mmin[i])\n",
    "        #( X- (X의 최솟값) ) / ( X의 최댓값 - X의 최솟값 )"
   ]
  },
  {
   "cell_type": "code",
   "execution_count": 81,
   "metadata": {},
   "outputs": [],
   "source": [
    "x_train, x_test, y_train, y_test = train_test_split(\n",
    "            data, target, test_size=0.2, shuffle=True, stratify=target, random_state=34)"
   ]
  },
  {
   "cell_type": "code",
   "execution_count": 82,
   "metadata": {},
   "outputs": [],
   "source": [
    "x_train = np.array(x_train)\n",
    "x_test = np.array(x_test) \n",
    "y_train = np.array(y_train) \n",
    "y_test = np.array(y_test) "
   ]
  },
  {
   "cell_type": "code",
   "execution_count": 83,
   "metadata": {},
   "outputs": [
    {
     "name": "stdout",
     "output_type": "stream",
     "text": [
      "\n",
      "\n",
      "Data Read Done!\n",
      "Training X Size : (120, 4)\n",
      "Training Y Size : (120,)\n",
      "Test X Size : (30, 4)\n",
      "Test Y Size : (30,)\n",
      "\n",
      "\n"
     ]
    }
   ],
   "source": [
    "print(\"\\n\\nData Read Done!\")\n",
    "print(\"Training X Size : \" + str(x_train.shape))\n",
    "print(\"Training Y Size : \" + str(y_train.shape))\n",
    "print(\"Test X Size : \" + str(x_test.shape))\n",
    "print(\"Test Y Size : \" + str(y_test.shape) + '\\n\\n')\n"
   ]
  },
  {
   "cell_type": "code",
   "execution_count": 84,
   "metadata": {},
   "outputs": [],
   "source": [
    "import sys\n",
    "from tensorflow import keras\n",
    "from  tensorflow.keras.optimizers import Adam "
   ]
  },
  {
   "cell_type": "code",
   "execution_count": 85,
   "metadata": {},
   "outputs": [],
   "source": [
    "model = keras.Sequential([\n",
    "    keras.layers.Dense(4),\n",
    "    keras.layers.Dense(10, activation=\"relu\"),\n",
    "    keras.layers.Dense(10, activation=\"relu\"),\n",
    "    keras.layers.Dense(3, activation='softmax')\n",
    "])\n",
    "\n",
    "model.compile(optimizer='adam', metrics=['accuracy'],\n",
    "                  loss='sparse_categorical_crossentropy')  "
   ]
  },
  {
   "cell_type": "code",
   "execution_count": 86,
   "metadata": {},
   "outputs": [
    {
     "name": "stdout",
     "output_type": "stream",
     "text": [
      "*****************start training*************************\n",
      "\n",
      " <bound method Model.summary of <keras.engine.sequential.Sequential object at 0x000002B0AA643198>>\n",
      "Epoch 1/50\n",
      "24/24 [==============================] - 0s 4ms/step - loss: 1.0889 - accuracy: 0.3500 - val_loss: 1.0744 - val_accuracy: 0.5000\n",
      "Epoch 2/50\n",
      "24/24 [==============================] - 0s 1ms/step - loss: 1.0467 - accuracy: 0.5500 - val_loss: 1.0216 - val_accuracy: 0.5333\n",
      "Epoch 3/50\n",
      "24/24 [==============================] - 0s 1ms/step - loss: 0.9995 - accuracy: 0.5750 - val_loss: 0.9760 - val_accuracy: 0.6000\n",
      "Epoch 4/50\n",
      "24/24 [==============================] - 0s 1ms/step - loss: 0.9543 - accuracy: 0.6167 - val_loss: 0.9306 - val_accuracy: 0.6333\n",
      "Epoch 5/50\n",
      "24/24 [==============================] - 0s 1ms/step - loss: 0.9043 - accuracy: 0.6583 - val_loss: 0.8814 - val_accuracy: 0.6333\n",
      "Epoch 6/50\n",
      "24/24 [==============================] - 0s 1ms/step - loss: 0.8514 - accuracy: 0.6667 - val_loss: 0.8256 - val_accuracy: 0.6333\n",
      "Epoch 7/50\n",
      "24/24 [==============================] - 0s 1ms/step - loss: 0.7936 - accuracy: 0.6667 - val_loss: 0.7688 - val_accuracy: 0.6667\n",
      "Epoch 8/50\n",
      "24/24 [==============================] - 0s 1ms/step - loss: 0.7368 - accuracy: 0.6667 - val_loss: 0.7134 - val_accuracy: 0.6667\n",
      "Epoch 9/50\n",
      "24/24 [==============================] - 0s 1ms/step - loss: 0.6788 - accuracy: 0.6750 - val_loss: 0.6609 - val_accuracy: 0.6667\n",
      "Epoch 10/50\n",
      "24/24 [==============================] - 0s 1ms/step - loss: 0.6243 - accuracy: 0.6750 - val_loss: 0.6147 - val_accuracy: 0.6667\n",
      "Epoch 11/50\n",
      "24/24 [==============================] - 0s 1ms/step - loss: 0.5783 - accuracy: 0.7333 - val_loss: 0.5746 - val_accuracy: 0.6667\n",
      "Epoch 12/50\n",
      "24/24 [==============================] - 0s 1ms/step - loss: 0.5350 - accuracy: 0.7000 - val_loss: 0.5292 - val_accuracy: 0.6667\n",
      "Epoch 13/50\n",
      "24/24 [==============================] - ETA: 0s - loss: 0.5588 - accuracy: 0.60 - 0s 1ms/step - loss: 0.4894 - accuracy: 0.7667 - val_loss: 0.4910 - val_accuracy: 0.8000\n",
      "Epoch 14/50\n",
      "24/24 [==============================] - 0s 1ms/step - loss: 0.4573 - accuracy: 0.7750 - val_loss: 0.4676 - val_accuracy: 0.7667\n",
      "Epoch 15/50\n",
      "24/24 [==============================] - 0s 1ms/step - loss: 0.4336 - accuracy: 0.7917 - val_loss: 0.4491 - val_accuracy: 0.8333\n",
      "Epoch 16/50\n",
      "24/24 [==============================] - 0s 1ms/step - loss: 0.4181 - accuracy: 0.8333 - val_loss: 0.4342 - val_accuracy: 0.8333\n",
      "Epoch 17/50\n",
      "24/24 [==============================] - 0s 1ms/step - loss: 0.4029 - accuracy: 0.8083 - val_loss: 0.4204 - val_accuracy: 0.9000\n",
      "Epoch 18/50\n",
      "24/24 [==============================] - 0s 1ms/step - loss: 0.3883 - accuracy: 0.8833 - val_loss: 0.4089 - val_accuracy: 0.9333\n",
      "Epoch 19/50\n",
      "24/24 [==============================] - 0s 999us/step - loss: 0.3750 - accuracy: 0.8833 - val_loss: 0.3970 - val_accuracy: 0.8667\n",
      "Epoch 20/50\n",
      "24/24 [==============================] - 0s 1ms/step - loss: 0.3622 - accuracy: 0.8833 - val_loss: 0.3853 - val_accuracy: 0.9333\n",
      "Epoch 21/50\n",
      "24/24 [==============================] - 0s 1ms/step - loss: 0.3500 - accuracy: 0.9000 - val_loss: 0.3740 - val_accuracy: 0.9333\n",
      "Epoch 22/50\n",
      "24/24 [==============================] - 0s 1ms/step - loss: 0.3374 - accuracy: 0.9167 - val_loss: 0.3623 - val_accuracy: 0.9333\n",
      "Epoch 23/50\n",
      "24/24 [==============================] - 0s 1ms/step - loss: 0.3257 - accuracy: 0.9083 - val_loss: 0.3518 - val_accuracy: 0.9333\n",
      "Epoch 24/50\n",
      "24/24 [==============================] - 0s 1ms/step - loss: 0.3153 - accuracy: 0.9500 - val_loss: 0.3404 - val_accuracy: 0.9333\n",
      "Epoch 25/50\n",
      "24/24 [==============================] - 0s 1ms/step - loss: 0.3041 - accuracy: 0.9417 - val_loss: 0.3308 - val_accuracy: 0.9333\n",
      "Epoch 26/50\n",
      "24/24 [==============================] - 0s 1ms/step - loss: 0.2909 - accuracy: 0.9583 - val_loss: 0.3179 - val_accuracy: 0.9333\n",
      "Epoch 27/50\n",
      "24/24 [==============================] - 0s 1ms/step - loss: 0.2799 - accuracy: 0.9500 - val_loss: 0.3087 - val_accuracy: 0.9667\n",
      "Epoch 28/50\n",
      "24/24 [==============================] - 0s 1ms/step - loss: 0.2679 - accuracy: 0.9583 - val_loss: 0.2950 - val_accuracy: 0.9667\n",
      "Epoch 29/50\n",
      "24/24 [==============================] - 0s 1ms/step - loss: 0.2587 - accuracy: 0.9500 - val_loss: 0.2839 - val_accuracy: 0.9667\n",
      "Epoch 30/50\n",
      "24/24 [==============================] - 0s 1ms/step - loss: 0.2462 - accuracy: 0.9583 - val_loss: 0.2791 - val_accuracy: 0.9667\n",
      "Epoch 31/50\n",
      "24/24 [==============================] - 0s 1ms/step - loss: 0.2431 - accuracy: 0.9667 - val_loss: 0.2622 - val_accuracy: 0.9667\n",
      "Epoch 32/50\n",
      "24/24 [==============================] - 0s 1ms/step - loss: 0.2313 - accuracy: 0.9500 - val_loss: 0.2511 - val_accuracy: 0.9667\n",
      "Epoch 33/50\n",
      "24/24 [==============================] - 0s 1ms/step - loss: 0.2180 - accuracy: 0.9750 - val_loss: 0.2402 - val_accuracy: 0.9667\n",
      "Epoch 34/50\n",
      "24/24 [==============================] - 0s 1ms/step - loss: 0.2058 - accuracy: 0.9750 - val_loss: 0.2346 - val_accuracy: 0.9667\n",
      "Epoch 35/50\n",
      "24/24 [==============================] - 0s 1ms/step - loss: 0.2011 - accuracy: 0.9750 - val_loss: 0.2274 - val_accuracy: 0.9667\n",
      "Epoch 36/50\n",
      "24/24 [==============================] - 0s 1ms/step - loss: 0.1892 - accuracy: 0.9750 - val_loss: 0.2124 - val_accuracy: 0.9667\n",
      "Epoch 37/50\n",
      "24/24 [==============================] - 0s 1ms/step - loss: 0.1876 - accuracy: 0.9750 - val_loss: 0.2128 - val_accuracy: 0.9667\n",
      "Epoch 38/50\n",
      "24/24 [==============================] - 0s 1ms/step - loss: 0.1778 - accuracy: 0.9583 - val_loss: 0.1973 - val_accuracy: 0.9667\n",
      "Epoch 39/50\n",
      "24/24 [==============================] - 0s 1ms/step - loss: 0.1686 - accuracy: 0.9667 - val_loss: 0.1915 - val_accuracy: 0.9667\n",
      "Epoch 40/50\n",
      "24/24 [==============================] - 0s 1ms/step - loss: 0.1637 - accuracy: 0.9750 - val_loss: 0.1824 - val_accuracy: 0.9667\n",
      "Epoch 41/50\n",
      "24/24 [==============================] - 0s 1ms/step - loss: 0.1588 - accuracy: 0.9500 - val_loss: 0.1746 - val_accuracy: 0.9667\n",
      "Epoch 42/50\n",
      "24/24 [==============================] - 0s 1ms/step - loss: 0.1528 - accuracy: 0.9750 - val_loss: 0.1691 - val_accuracy: 0.9667\n",
      "Epoch 43/50\n",
      "24/24 [==============================] - 0s 1ms/step - loss: 0.1465 - accuracy: 0.9833 - val_loss: 0.1638 - val_accuracy: 0.9667\n",
      "Epoch 44/50\n",
      "24/24 [==============================] - 0s 1ms/step - loss: 0.1455 - accuracy: 0.9583 - val_loss: 0.1554 - val_accuracy: 0.9667\n",
      "Epoch 45/50\n",
      "24/24 [==============================] - 0s 1ms/step - loss: 0.1411 - accuracy: 0.9667 - val_loss: 0.1518 - val_accuracy: 0.9667\n",
      "Epoch 46/50\n",
      "24/24 [==============================] - 0s 1ms/step - loss: 0.1411 - accuracy: 0.9583 - val_loss: 0.1448 - val_accuracy: 0.9667\n",
      "Epoch 47/50\n",
      "24/24 [==============================] - 0s 1ms/step - loss: 0.1307 - accuracy: 0.9833 - val_loss: 0.1480 - val_accuracy: 0.9667\n",
      "Epoch 48/50\n",
      "24/24 [==============================] - 0s 1ms/step - loss: 0.1316 - accuracy: 0.9583 - val_loss: 0.1361 - val_accuracy: 0.9667\n",
      "Epoch 49/50\n",
      "24/24 [==============================] - 0s 1ms/step - loss: 0.1224 - accuracy: 0.9833 - val_loss: 0.1335 - val_accuracy: 0.9667\n",
      "Epoch 50/50\n",
      "24/24 [==============================] - 0s 1ms/step - loss: 0.1189 - accuracy: 0.9833 - val_loss: 0.1322 - val_accuracy: 0.9667\n"
     ]
    }
   ],
   "source": [
    "print(\"*****************start training*************************\\n\\n\", model.summary)\n",
    "early_stop = keras.callbacks.EarlyStopping(monitor='val_loss', patience=10)\n",
    "history = model.fit(x_train, y_train, epochs=50, batch_size=5,\n",
    "                    validation_data=(x_test, y_test),\n",
    "                    callbacks=[early_stop])\n",
    "\n",
    "# res = model.evaluate(x_test,y_test,verbose = 0 )\n",
    "# print(\"acc is : \", res[1]* 100)"
   ]
  },
  {
   "cell_type": "code",
   "execution_count": 87,
   "metadata": {},
   "outputs": [
    {
     "data": {
      "image/png": "[encoded data removed]",
      "text/plain": [
       "<Figure size 576x576 with 1 Axes>"
      ]
     },
     "metadata": {
      "needs_background": "light"
     },
     "output_type": "display_data"
    },
    {
     "data": {
      "image/png": "[encoded data removed]",
      "text/plain": [
       "<Figure size 576x576 with 1 Axes>"
      ]
     },
     "metadata": {
      "needs_background": "light"
     },
     "output_type": "display_data"
    }
   ],
   "source": [
    "from matplotlib import pyplot as plt\n",
    "train_history = history.history[\"loss\"]\n",
    "validation_history = history.history[\"val_loss\"]\n",
    "fig = plt.figure(figsize=(8, 8))\n",
    "plt.title(\"Loss History\")\n",
    "plt.xlabel(\"EPOCH\")\n",
    "plt.ylabel(\"LOSS Function\")\n",
    "plt.plot(train_history, \"red\")\n",
    "plt.plot(validation_history, 'blue')\n",
    "fig.savefig(\"train_history.png\")\n",
    "\n",
    "train_history = history.history[\"accuracy\"]\n",
    "validation_history = history.history[\"val_accuracy\"]\n",
    "fig = plt.figure(figsize=(8, 8))\n",
    "plt.title(\"Accuracy History\")\n",
    "plt.xlabel(\"EPOCH\")\n",
    "plt.ylabel(\"Accuracy\")\n",
    "plt.plot(train_history, \"red\")\n",
    "plt.plot(validation_history, 'blue')\n",
    "fig.savefig(\"accuracy_history.png\")"
   ]
  },
  {
   "cell_type": "code",
   "execution_count": null,
   "metadata": {},
   "outputs": [],
   "source": [
    "코드 pdf 결과이미지"
   ]
  }
 ],
 "metadata": {
  "kernelspec": {
   "display_name": "py36tf131",
   "language": "python",
   "name": "python3"
  },
  "language_info": {
   "codemirror_mode": {
    "name": "ipython",
    "version": 3
   },
   "file_extension": ".py",
   "mimetype": "text/x-python",
   "name": "python",
   "nbconvert_exporter": "python",
   "pygments_lexer": "ipython3",
   "version": "3.6.13"
  },
  "orig_nbformat": 4
 },
 "nbformat": 4,
 "nbformat_minor": 2
}
