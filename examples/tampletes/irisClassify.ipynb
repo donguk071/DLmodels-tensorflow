{
 "cells": [
  {
   "cell_type": "code",
   "execution_count": 2,
   "metadata": {},
   "outputs": [],
   "source": [
    "import pandas as pd\n",
    "import numpy as np\n",
    "from sklearn.model_selection import train_test_split\n",
    "from sklearn.preprocessing import MinMaxScaler"
   ]
  },
  {
   "cell_type": "code",
   "execution_count": 3,
   "metadata": {},
   "outputs": [],
   "source": [
    "# data = pd.read_csv(\"C:/Users/drago/university/23.1 semester/DL/DLmodels-tensorflow/data/iris.csv\", index_col=[0,1,2,3,4])\n",
    "# data\n",
    "import csv\n",
    "\n",
    "data = []\n",
    "with open('C:/Users/drago/university/23.1 semester/DL/DLmodels-tensorflow/data/iris.csv', newline='') as csvfile:\n",
    "    reader = csv.reader(csvfile)\n",
    "    for row in reader:\n",
    "        if len(row) != 0:\n",
    "            if row [4] == \"Iris-setosa\":\n",
    "                row [4] = 0\n",
    "            if row [4] == \"Iris-versicolor\":\n",
    "                row [4] = 1    \n",
    "            if row [4] == \"Iris-virginica\":\n",
    "                row [4] = 2\n",
    "            int_list = list(map(float, row[0:4]))\n",
    "            data.append((int_list, np.array(row[4])))    \n",
    "               "
   ]
  },
  {
   "cell_type": "code",
   "execution_count": 4,
   "metadata": {},
   "outputs": [],
   "source": [
    "import random\n",
    "\n",
    "random.shuffle(data)"
   ]
  },
  {
   "cell_type": "code",
   "execution_count": 5,
   "metadata": {},
   "outputs": [],
   "source": [
    "target = [row[1] for row in data]\n",
    "data = [row[0] for row in data]"
   ]
  },
  {
   "cell_type": "code",
   "execution_count": 6,
   "metadata": {},
   "outputs": [
    {
     "data": {
      "text/plain": [
       "1.0"
      ]
     },
     "execution_count": 6,
     "metadata": {},
     "output_type": "execute_result"
    }
   ],
   "source": [
    "data[0][3]\n",
    "#5.1, 3.8, 1.6, 0.2"
   ]
  },
  {
   "cell_type": "code",
   "execution_count": 7,
   "metadata": {},
   "outputs": [],
   "source": [
    "# # normalize\n",
    "# mmin = [12,12,12,12]\n",
    "# mmax = [0,0,0,0]\n",
    "# for i in range(4):\n",
    "#     for j in range(len(data)):\n",
    "#         if mmin[i] > data[j][i]:\n",
    "#             mmin[i] = data[j][i]\n",
    "#         if mmax[i] < data[j][i]:\n",
    "#             mmax[i] = data[j][i]\n",
    "# print(mmin)\n",
    "# print(mmax)\n",
    "# for i in range(4):\n",
    "#     for j in range(len(data)):\n",
    "#         data[j][i] = (data[j][i] - mmin[i]) / (mmax[i] - mmin[i])\n",
    "#         #( X- (X의 최솟값) ) / ( X의 최댓값 - X의 최솟값 )\n",
    "scaler = MinMaxScaler()\n",
    "data = scaler.fit_transform(data)"
   ]
  },
  {
   "cell_type": "code",
   "execution_count": 8,
   "metadata": {},
   "outputs": [],
   "source": [
    "x_train, x_test, y_train, y_test = train_test_split(\n",
    "            data, target, test_size=0.2, shuffle=True, stratify=target, random_state=34)"
   ]
  },
  {
   "cell_type": "code",
   "execution_count": 9,
   "metadata": {},
   "outputs": [],
   "source": [
    "x_train = np.array(x_train)\n",
    "x_test = np.array(x_test) \n",
    "y_train = np.array(y_train) \n",
    "y_test = np.array(y_test) "
   ]
  },
  {
   "cell_type": "code",
   "execution_count": 10,
   "metadata": {},
   "outputs": [
    {
     "name": "stdout",
     "output_type": "stream",
     "text": [
      "\n",
      "\n",
      "Data Read Done!\n",
      "Training X Size : (120, 4)\n",
      "Training Y Size : (120,)\n",
      "Test X Size : (30, 4)\n",
      "Test Y Size : (30,)\n",
      "\n",
      "\n"
     ]
    }
   ],
   "source": [
    "print(\"\\n\\nData Read Done!\")\n",
    "print(\"Training X Size : \" + str(x_train.shape))\n",
    "print(\"Training Y Size : \" + str(y_train.shape))\n",
    "print(\"Test X Size : \" + str(x_test.shape))\n",
    "print(\"Test Y Size : \" + str(y_test.shape) + '\\n\\n')\n"
   ]
  },
  {
   "cell_type": "code",
   "execution_count": 11,
   "metadata": {},
   "outputs": [],
   "source": [
    "import sys\n",
    "from tensorflow import keras\n",
    "from  tensorflow.keras.optimizers import Adam "
   ]
  },
  {
   "cell_type": "code",
   "execution_count": 12,
   "metadata": {},
   "outputs": [],
   "source": [
    "model = keras.Sequential([\n",
    "    keras.layers.Dense(4),\n",
    "    keras.layers.Dense(10, activation=\"relu\"),\n",
    "    keras.layers.Dense(10, activation=\"relu\"),\n",
    "    keras.layers.Dense(3, activation='softmax')\n",
    "])\n",
    "\n",
    "model.compile(optimizer='adam', metrics=['accuracy'],\n",
    "                  loss='sparse_categorical_crossentropy')  "
   ]
  },
  {
   "cell_type": "code",
   "execution_count": 13,
   "metadata": {},
   "outputs": [
    {
     "name": "stdout",
     "output_type": "stream",
     "text": [
      "*****************start training*************************\n",
      "\n",
      " <bound method Model.summary of <keras.engine.sequential.Sequential object at 0x0000021E7CD6DB00>>\n",
      "Epoch 1/50\n",
      "24/24 [==============================] - ETA: 10s - loss: 1.0851 - accuracy: 0.600 - 1s 9ms/step - loss: 1.0862 - accuracy: 0.2750 - val_loss: 1.0617 - val_accuracy: 0.4000\n",
      "Epoch 2/50\n",
      "24/24 [==============================] - 0s 2ms/step - loss: 1.0551 - accuracy: 0.3000 - val_loss: 1.0333 - val_accuracy: 0.3333\n",
      "Epoch 3/50\n",
      "24/24 [==============================] - 0s 2ms/step - loss: 1.0194 - accuracy: 0.3333 - val_loss: 0.9910 - val_accuracy: 0.3333\n",
      "Epoch 4/50\n",
      "24/24 [==============================] - 0s 2ms/step - loss: 0.9797 - accuracy: 0.3500 - val_loss: 0.9489 - val_accuracy: 0.4667\n",
      "Epoch 5/50\n",
      "24/24 [==============================] - ETA: 0s - loss: 1.0155 - accuracy: 0.20 - 0s 2ms/step - loss: 0.9389 - accuracy: 0.5500 - val_loss: 0.9107 - val_accuracy: 0.6333\n",
      "Epoch 6/50\n",
      "24/24 [==============================] - 0s 2ms/step - loss: 0.8991 - accuracy: 0.6000 - val_loss: 0.8706 - val_accuracy: 0.6333\n",
      "Epoch 7/50\n",
      "24/24 [==============================] - 0s 2ms/step - loss: 0.8555 - accuracy: 0.6250 - val_loss: 0.8244 - val_accuracy: 0.6667\n",
      "Epoch 8/50\n",
      "24/24 [==============================] - 0s 2ms/step - loss: 0.8051 - accuracy: 0.6583 - val_loss: 0.7744 - val_accuracy: 0.6667\n",
      "Epoch 9/50\n",
      "24/24 [==============================] - 0s 2ms/step - loss: 0.7483 - accuracy: 0.6667 - val_loss: 0.7175 - val_accuracy: 0.6667\n",
      "Epoch 10/50\n",
      "24/24 [==============================] - 0s 2ms/step - loss: 0.6863 - accuracy: 0.6667 - val_loss: 0.6519 - val_accuracy: 0.6667\n",
      "Epoch 11/50\n",
      "24/24 [==============================] - 0s 3ms/step - loss: 0.6245 - accuracy: 0.6750 - val_loss: 0.5932 - val_accuracy: 0.6667\n",
      "Epoch 12/50\n",
      "24/24 [==============================] - 0s 2ms/step - loss: 0.5670 - accuracy: 0.6750 - val_loss: 0.5382 - val_accuracy: 0.6667\n",
      "Epoch 13/50\n",
      "24/24 [==============================] - 0s 2ms/step - loss: 0.5155 - accuracy: 0.7417 - val_loss: 0.4934 - val_accuracy: 0.6667\n",
      "Epoch 14/50\n",
      "24/24 [==============================] - 0s 2ms/step - loss: 0.4748 - accuracy: 0.7083 - val_loss: 0.4570 - val_accuracy: 0.7000\n",
      "Epoch 15/50\n",
      "24/24 [==============================] - 0s 2ms/step - loss: 0.4460 - accuracy: 0.8917 - val_loss: 0.4294 - val_accuracy: 0.7667\n",
      "Epoch 16/50\n",
      "24/24 [==============================] - 0s 2ms/step - loss: 0.4151 - accuracy: 0.8917 - val_loss: 0.4104 - val_accuracy: 0.7667\n",
      "Epoch 17/50\n",
      "24/24 [==============================] - 0s 2ms/step - loss: 0.3933 - accuracy: 0.8500 - val_loss: 0.3913 - val_accuracy: 0.7667\n",
      "Epoch 18/50\n",
      "24/24 [==============================] - 0s 2ms/step - loss: 0.3760 - accuracy: 0.9000 - val_loss: 0.3740 - val_accuracy: 0.8000\n",
      "Epoch 19/50\n",
      "24/24 [==============================] - 0s 2ms/step - loss: 0.3580 - accuracy: 0.9583 - val_loss: 0.3570 - val_accuracy: 0.8333\n",
      "Epoch 20/50\n",
      "24/24 [==============================] - 0s 2ms/step - loss: 0.3415 - accuracy: 0.9667 - val_loss: 0.3379 - val_accuracy: 0.9000\n",
      "Epoch 21/50\n",
      "24/24 [==============================] - 0s 2ms/step - loss: 0.3245 - accuracy: 0.9667 - val_loss: 0.3367 - val_accuracy: 0.8000\n",
      "Epoch 22/50\n",
      "24/24 [==============================] - 0s 2ms/step - loss: 0.3109 - accuracy: 0.9417 - val_loss: 0.3132 - val_accuracy: 0.9000\n",
      "Epoch 23/50\n",
      "24/24 [==============================] - 0s 2ms/step - loss: 0.2941 - accuracy: 0.9667 - val_loss: 0.2960 - val_accuracy: 0.9333\n",
      "Epoch 24/50\n",
      "24/24 [==============================] - 0s 2ms/step - loss: 0.2788 - accuracy: 0.9750 - val_loss: 0.2930 - val_accuracy: 0.9000\n",
      "Epoch 25/50\n",
      "24/24 [==============================] - 0s 2ms/step - loss: 0.2677 - accuracy: 0.9667 - val_loss: 0.2811 - val_accuracy: 0.9000\n",
      "Epoch 26/50\n",
      "24/24 [==============================] - 0s 2ms/step - loss: 0.2514 - accuracy: 0.9750 - val_loss: 0.2614 - val_accuracy: 0.9333\n",
      "Epoch 27/50\n",
      "24/24 [==============================] - 0s 2ms/step - loss: 0.2402 - accuracy: 0.9667 - val_loss: 0.2520 - val_accuracy: 0.9333\n",
      "Epoch 28/50\n",
      "24/24 [==============================] - 0s 2ms/step - loss: 0.2200 - accuracy: 0.9583 - val_loss: 0.2319 - val_accuracy: 0.9333\n",
      "Epoch 29/50\n",
      "24/24 [==============================] - 0s 2ms/step - loss: 0.2078 - accuracy: 0.9750 - val_loss: 0.2295 - val_accuracy: 0.9333\n",
      "Epoch 30/50\n",
      "24/24 [==============================] - 0s 2ms/step - loss: 0.1916 - accuracy: 0.9750 - val_loss: 0.2284 - val_accuracy: 0.9333\n",
      "Epoch 31/50\n",
      "24/24 [==============================] - 0s 2ms/step - loss: 0.1796 - accuracy: 0.9750 - val_loss: 0.1924 - val_accuracy: 0.9667\n",
      "Epoch 32/50\n",
      "24/24 [==============================] - 0s 2ms/step - loss: 0.1720 - accuracy: 0.9583 - val_loss: 0.2103 - val_accuracy: 0.9333\n",
      "Epoch 33/50\n",
      "24/24 [==============================] - 0s 2ms/step - loss: 0.1610 - accuracy: 0.9750 - val_loss: 0.1853 - val_accuracy: 0.9333\n",
      "Epoch 34/50\n",
      "24/24 [==============================] - 0s 2ms/step - loss: 0.1559 - accuracy: 0.9833 - val_loss: 0.1953 - val_accuracy: 0.9333\n",
      "Epoch 35/50\n",
      "24/24 [==============================] - 0s 2ms/step - loss: 0.1458 - accuracy: 0.9583 - val_loss: 0.1880 - val_accuracy: 0.9333\n",
      "Epoch 36/50\n",
      "24/24 [==============================] - 0s 2ms/step - loss: 0.1395 - accuracy: 0.9750 - val_loss: 0.1581 - val_accuracy: 0.9667\n",
      "Epoch 37/50\n",
      "24/24 [==============================] - 0s 2ms/step - loss: 0.1302 - accuracy: 0.9750 - val_loss: 0.1796 - val_accuracy: 0.9333\n",
      "Epoch 38/50\n",
      "24/24 [==============================] - 0s 2ms/step - loss: 0.1272 - accuracy: 0.9750 - val_loss: 0.1839 - val_accuracy: 0.9333\n",
      "Epoch 39/50\n",
      "24/24 [==============================] - 0s 2ms/step - loss: 0.1207 - accuracy: 0.9750 - val_loss: 0.1453 - val_accuracy: 0.9667\n",
      "Epoch 40/50\n",
      "24/24 [==============================] - 0s 2ms/step - loss: 0.1222 - accuracy: 0.9667 - val_loss: 0.1956 - val_accuracy: 0.9333\n",
      "Epoch 41/50\n",
      "24/24 [==============================] - 0s 4ms/step - loss: 0.1174 - accuracy: 0.9833 - val_loss: 0.1489 - val_accuracy: 0.9333\n",
      "Epoch 42/50\n",
      "24/24 [==============================] - 0s 2ms/step - loss: 0.1089 - accuracy: 0.9833 - val_loss: 0.1488 - val_accuracy: 0.9333\n",
      "Epoch 43/50\n",
      "24/24 [==============================] - 0s 2ms/step - loss: 0.1040 - accuracy: 0.9750 - val_loss: 0.1610 - val_accuracy: 0.9333\n",
      "Epoch 44/50\n",
      "24/24 [==============================] - 0s 2ms/step - loss: 0.1050 - accuracy: 0.9833 - val_loss: 0.1326 - val_accuracy: 0.9667\n",
      "Epoch 45/50\n",
      "24/24 [==============================] - 0s 2ms/step - loss: 0.0986 - accuracy: 0.9750 - val_loss: 0.1459 - val_accuracy: 0.9333\n",
      "Epoch 46/50\n",
      "24/24 [==============================] - 0s 2ms/step - loss: 0.0951 - accuracy: 0.9667 - val_loss: 0.1509 - val_accuracy: 0.9333\n",
      "Epoch 47/50\n",
      "24/24 [==============================] - 0s 2ms/step - loss: 0.0931 - accuracy: 0.9833 - val_loss: 0.1439 - val_accuracy: 0.9333\n",
      "Epoch 48/50\n",
      "24/24 [==============================] - 0s 2ms/step - loss: 0.0889 - accuracy: 0.9833 - val_loss: 0.1298 - val_accuracy: 0.9667\n",
      "Epoch 49/50\n",
      "24/24 [==============================] - 0s 2ms/step - loss: 0.0877 - accuracy: 0.9750 - val_loss: 0.1782 - val_accuracy: 0.9333\n",
      "Epoch 50/50\n",
      "24/24 [==============================] - 0s 2ms/step - loss: 0.0869 - accuracy: 0.9833 - val_loss: 0.1313 - val_accuracy: 0.9333\n"
     ]
    }
   ],
   "source": [
    "print(\"*****************start training*************************\\n\\n\", model.summary)\n",
    "early_stop = keras.callbacks.EarlyStopping(monitor='val_loss', patience=10)\n",
    "history = model.fit(x_train, y_train, epochs=50, batch_size=5,\n",
    "                    validation_data=(x_test, y_test),\n",
    "                    callbacks=[early_stop])\n",
    "\n",
    "# res = model.evaluate(x_test,y_test,verbose = 0 )\n",
    "# print(\"acc is : \", res[1]* 100)"
   ]
  },
  {
   "cell_type": "code",
   "execution_count": 14,
   "metadata": {},
   "outputs": [
    {
     "data": {
      "image/png": "[encoded data removed]",
      "text/plain": [
       "<Figure size 576x576 with 1 Axes>"
      ]
     },
     "metadata": {
      "needs_background": "light"
     },
     "output_type": "display_data"
    },
    {
     "data": {
      "image/png": "[encoded data removed]",
      "text/plain": [
       "<Figure size 576x576 with 1 Axes>"
      ]
     },
     "metadata": {
      "needs_background": "light"
     },
     "output_type": "display_data"
    }
   ],
   "source": [
    "from matplotlib import pyplot as plt\n",
    "train_history = history.history[\"loss\"]\n",
    "validation_history = history.history[\"val_loss\"]\n",
    "fig = plt.figure(figsize=(8, 8))\n",
    "plt.title(\"Loss History\")\n",
    "plt.xlabel(\"EPOCH\")\n",
    "plt.ylabel(\"LOSS Function\")\n",
    "plt.plot(train_history, \"red\")\n",
    "plt.plot(validation_history, 'blue')\n",
    "fig.savefig(\"train_history.png\")\n",
    "\n",
    "train_history = history.history[\"accuracy\"]\n",
    "validation_history = history.history[\"val_accuracy\"]\n",
    "fig = plt.figure(figsize=(8, 8))\n",
    "plt.title(\"Accuracy History\")\n",
    "plt.xlabel(\"EPOCH\")\n",
    "plt.ylabel(\"Accuracy\")\n",
    "plt.plot(train_history, \"red\")\n",
    "plt.plot(validation_history, 'blue')\n",
    "fig.savefig(\"accuracy_history.png\")"
   ]
  },
  {
   "cell_type": "code",
   "execution_count": 15,
   "metadata": {},
   "outputs": [
    {
     "ename": "SyntaxError",
     "evalue": "invalid syntax (<ipython-input-15-734134092616>, line 1)",
     "output_type": "error",
     "traceback": [
      "\u001b[1;36m  File \u001b[1;32m\"<ipython-input-15-734134092616>\"\u001b[1;36m, line \u001b[1;32m1\u001b[0m\n\u001b[1;33m    코드 pdf 결과이미지\u001b[0m\n\u001b[1;37m         ^\u001b[0m\n\u001b[1;31mSyntaxError\u001b[0m\u001b[1;31m:\u001b[0m invalid syntax\n"
     ]
    }
   ],
   "source": [
    "코드 pdf 결과이미지"
   ]
  }
 ],
 "metadata": {
  "kernelspec": {
   "display_name": "py36tf131",
   "language": "python",
   "name": "python3"
  },
  "language_info": {
   "codemirror_mode": {
    "name": "ipython",
    "version": 3
   },
   "file_extension": ".py",
   "mimetype": "text/x-python",
   "name": "python",
   "nbconvert_exporter": "python",
   "pygments_lexer": "ipython3",
   "version": "3.6.13"
  },
  "orig_nbformat": 4
 },
 "nbformat": 4,
 "nbformat_minor": 2
}
