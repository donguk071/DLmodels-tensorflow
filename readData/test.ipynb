{
 "cells": [
  {
   "cell_type": "code",
   "execution_count": 31,
   "metadata": {},
   "outputs": [],
   "source": [
    "import glob\n",
    "from PIL import Image\n",
    "import numpy as np\n",
    "import random\n",
    "from sklearn.model_selection import train_test_split\n",
    "\n",
    "class DataReader:\n",
    "    def __init__(self, rootfolder = \" \"):\n",
    "        self.x_train = []\n",
    "        self.x_test = []\n",
    "        self.y_train = []\n",
    "        self.y_test = []\n",
    "        #self.f_data_reader(rootfolder)\n",
    "    def f_data_reader(self, rootfolder, img_size=150, one_hot_encoding=False):\n",
    "\n",
    "        print(str(rootfolder) + \"/*\")\n",
    "        folder_path = glob.glob(str(rootfolder) + \"/*\")\n",
    "        print(\"Read folder path : \" + str(folder_path))\n",
    "\n",
    "        numFiles = [0] * len(folder_path)  # numFiles 리스트 초기화\n",
    "        file_path = []\n",
    "        for i, path in enumerate(folder_path):\n",
    "            temp_path = glob.glob(path + \"/*\")  # 폴더 내 모든 파일 경로 가져오기\n",
    "            numFiles[i] = len(temp_path)\n",
    "            file_path += temp_path\n",
    "\n",
    "        print(\"size of data set : \" + str(len(file_path)))\n",
    "        print(\"size of each label : \" + str(numFiles))\n",
    "\n",
    "        data = []\n",
    "        for i, path in enumerate(file_path):\n",
    "            img = Image.open(path)\n",
    "            img = np.asarray(img)\n",
    "\n",
    "            for j, folder in enumerate(folder_path):\n",
    "                if i < sum(numFiles[:j + 1]):  # 파일이 속한 폴더의 인덱스 계산\n",
    "                    img_label = j\n",
    "                    break\n",
    "\n",
    "            if i % 1000 == 0:\n",
    "                print(\"labeling data set : \" + str(i) + \"/\" + str(len(file_path)))\n",
    "            data.append((img, img_label))\n",
    "        print(\"labeling data done : \" + str(len(file_path)) + \"/\" + str(len(file_path)))\n",
    "\n",
    "        # optional cause we are using train_test_split func\n",
    "        random.shuffle(data)\n",
    "\n",
    "        target = [row[1] for row in data]\n",
    "        data = [row[0] for row in data]\n",
    "\n",
    "        # train_test_split\n",
    "        self.x_train, self.x_test, self.y_train, self.y_test = train_test_split(\n",
    "            data, target, test_size=0.2, shuffle=True, stratify=target, random_state=34)\n",
    "        self.x_train = np.array(self.x_train) / 255.0\n",
    "        self.x_test = np.array(self.x_test) / 255.0\n",
    "        self.y_train = np.array(self.y_train) / 1.0\n",
    "        self.y_test = np.array(self.y_test) / 1.0\n",
    "\n",
    "        print(\"\\n\\nData Read Done!\")\n",
    "        print(\"Training X Size : \" + str(self.x_train.shape))\n",
    "        print(\"Training Y Size : \" + str(self.y_train.shape))\n",
    "        print(\"Test X Size : \" + str(self.x_test.shape))\n",
    "        print(\"Test Y Size : \" + str(self.y_test.shape) + '\\n\\n')\n"
   ]
  },
  {
   "cell_type": "code",
   "execution_count": 32,
   "metadata": {},
   "outputs": [
    {
     "name": "stdout",
     "output_type": "stream",
     "text": [
      "../data/RSP_data/*\n",
      "Read folder path : ['../data/RSP_data\\\\paper', '../data/RSP_data\\\\rock', '../data/RSP_data\\\\scissors']\n",
      "size of data set : 2892\n",
      "size of each label : [964, 964, 964]\n",
      "labeling data set : 0/2892\n",
      "labeling data set : 1000/2892\n",
      "labeling data set : 2000/2892\n",
      "labeling data done : 2892/2892\n",
      "\n",
      "\n",
      "Data Read Done!\n",
      "Training X Size : (2313, 150, 150, 3)\n",
      "Training Y Size : (2313,)\n",
      "Test X Size : (579, 150, 150, 3)\n",
      "Test Y Size : (579,)\n",
      "\n",
      "\n"
     ]
    }
   ],
   "source": [
    "test = DataReader()\n",
    "test.f_data_reader(\"../data/RSP_data\")\n"
   ]
  },
  {
   "cell_type": "code",
   "execution_count": null,
   "metadata": {},
   "outputs": [],
   "source": []
  }
 ],
 "metadata": {
  "kernelspec": {
   "display_name": "py36tf131",
   "language": "python",
   "name": "python3"
  },
  "language_info": {
   "codemirror_mode": {
    "name": "ipython",
    "version": 3
   },
   "file_extension": ".py",
   "mimetype": "text/x-python",
   "name": "python",
   "nbconvert_exporter": "python",
   "pygments_lexer": "ipython3",
   "version": "3.6.13"
  },
  "orig_nbformat": 4
 },
 "nbformat": 4,
 "nbformat_minor": 2
}
